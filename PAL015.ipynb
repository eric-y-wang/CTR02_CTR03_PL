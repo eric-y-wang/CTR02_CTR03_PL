{
 "cells": [
  {
   "cell_type": "markdown",
   "id": "75870dcf-b382-40e8-ad8f-91246f3155fb",
   "metadata": {},
   "source": [
    "## Context"
   ]
  },
  {
   "cell_type": "markdown",
   "id": "00ee5519-4599-4083-86c2-f40dcc50d948",
   "metadata": {
    "execution": {
     "iopub.execute_input": "2024-11-06T16:24:26.189659Z",
     "iopub.status.busy": "2024-11-06T16:24:26.189258Z",
     "iopub.status.idle": "2024-11-06T16:24:26.197097Z",
     "shell.execute_reply": "2024-11-06T16:24:26.196376Z",
     "shell.execute_reply.started": "2024-11-06T16:24:26.189631Z"
    }
   },
   "source": [
    "- analysis in PAL014 identified Stim-Unstim axis as the strongest source of variation, but not much else\n",
    "- there's some evidence from Sam's factor analysis that there may be subtle effects at play that are not getting captured by the psuedobulk-PCA methods I used\n",
    "- I'm going to try different methods to try and extract any variance I can\n",
    "    - miloDE\n",
    "    - SCVI"
   ]
  },
  {
   "cell_type": "markdown",
   "id": "f44d1c91-e048-4fdf-b4c0-470597eb4972",
   "metadata": {},
   "source": [
    "## Libraries and Settings"
   ]
  },
  {
   "cell_type": "code",
   "execution_count": 7,
   "id": "90f94ab6-8d47-4dff-81c4-43913e1f5451",
   "metadata": {
    "execution": {
     "iopub.execute_input": "2024-11-06T17:03:51.016566Z",
     "iopub.status.busy": "2024-11-06T17:03:51.014619Z",
     "iopub.status.idle": "2024-11-06T17:03:51.109964Z",
     "shell.execute_reply": "2024-11-06T17:03:51.109683Z",
     "shell.execute_reply.started": "2024-11-06T17:03:51.016546Z"
    }
   },
   "outputs": [],
   "source": [
    "import scanpy as sc\n",
    "import mudata as md\n",
    "import rapids_singlecell as rsc\n",
    "import torch"
   ]
  },
  {
   "cell_type": "markdown",
   "id": "1e3fd14d-c326-41b3-8950-7cf25af2cd42",
   "metadata": {},
   "source": [
    "## Data Loading"
   ]
  },
  {
   "cell_type": "code",
   "execution_count": 6,
   "id": "282079d5-d7be-4f8d-9c42-82649774ce3b",
   "metadata": {
    "execution": {
     "iopub.execute_input": "2024-11-06T17:03:37.614416Z",
     "iopub.status.busy": "2024-11-06T17:03:37.614305Z",
     "iopub.status.idle": "2024-11-06T17:03:51.004076Z",
     "shell.execute_reply": "2024-11-06T17:03:50.930401Z",
     "shell.execute_reply.started": "2024-11-06T17:03:37.614404Z"
    }
   },
   "outputs": [
    {
     "data": {
      "text/html": [
       "<pre>MuData object with n_obs × n_vars = 42903 × 32303\n",
       "  var:\t&#x27;gene_ids&#x27;, &#x27;feature_types&#x27;, &#x27;genome&#x27;, &#x27;pattern&#x27;, &#x27;read&#x27;, &#x27;sequence&#x27;, &#x27;target_gene_id&#x27;, &#x27;target_gene_name&#x27;\n",
       "  3 modalities\n",
       "    rna:\t42903 x 32286\n",
       "      var:\t&#x27;gene_ids&#x27;, &#x27;feature_types&#x27;, &#x27;genome&#x27;\n",
       "    guide:\t42903 x 12\n",
       "      var:\t&#x27;gene_ids&#x27;, &#x27;feature_types&#x27;, &#x27;pattern&#x27;, &#x27;read&#x27;, &#x27;sequence&#x27;, &#x27;target_gene_id&#x27;, &#x27;target_gene_name&#x27;\n",
       "    cite:\t42903 x 5\n",
       "      var:\t&#x27;gene_ids&#x27;, &#x27;feature_types&#x27;, &#x27;genome&#x27;, &#x27;pattern&#x27;, &#x27;read&#x27;, &#x27;sequence&#x27;</pre>"
      ],
      "text/plain": [
       "MuData object with n_obs × n_vars = 42903 × 32303\n",
       "  var:\t'gene_ids', 'feature_types', 'genome', 'pattern', 'read', 'sequence', 'target_gene_id', 'target_gene_name'\n",
       "  3 modalities\n",
       "    rna:\t42903 x 32286\n",
       "      var:\t'gene_ids', 'feature_types', 'genome'\n",
       "    guide:\t42903 x 12\n",
       "      var:\t'gene_ids', 'feature_types', 'pattern', 'read', 'sequence', 'target_gene_id', 'target_gene_name'\n",
       "    cite:\t42903 x 5\n",
       "      var:\t'gene_ids', 'feature_types', 'genome', 'pattern', 'read', 'sequence'"
      ]
     },
     "execution_count": 6,
     "metadata": {},
     "output_type": "execute_result"
    }
   ],
   "source": [
    "mdata = md.read_h5mu(\"/lustre/fs4/cao_lab/scratch/plaffont/personal_datasets/CTR02/ctr02.h5mu\")\n",
    "mdata"
   ]
  },
  {
   "cell_type": "code",
   "execution_count": 8,
   "id": "67b876ad-0b38-447b-bb4a-195ffb29d063",
   "metadata": {
    "execution": {
     "iopub.execute_input": "2024-11-06T17:03:51.110671Z",
     "iopub.status.busy": "2024-11-06T17:03:51.110460Z",
     "iopub.status.idle": "2024-11-06T17:03:51.404698Z",
     "shell.execute_reply": "2024-11-06T17:03:51.404412Z",
     "shell.execute_reply.started": "2024-11-06T17:03:51.110659Z"
    }
   },
   "outputs": [
    {
     "data": {
      "text/html": [
       "<div>\n",
       "<style scoped>\n",
       "    .dataframe tbody tr th:only-of-type {\n",
       "        vertical-align: middle;\n",
       "    }\n",
       "\n",
       "    .dataframe tbody tr th {\n",
       "        vertical-align: top;\n",
       "    }\n",
       "\n",
       "    .dataframe thead th {\n",
       "        text-align: right;\n",
       "    }\n",
       "</style>\n",
       "<table border=\"1\" class=\"dataframe\">\n",
       "  <thead>\n",
       "    <tr style=\"text-align: right;\">\n",
       "      <th></th>\n",
       "      <th>gene_ids</th>\n",
       "      <th>feature_types</th>\n",
       "      <th>pattern</th>\n",
       "      <th>read</th>\n",
       "      <th>sequence</th>\n",
       "      <th>target_gene_id</th>\n",
       "      <th>target_gene_name</th>\n",
       "    </tr>\n",
       "  </thead>\n",
       "  <tbody>\n",
       "    <tr>\n",
       "      <th>NTC.1</th>\n",
       "      <td>NTC.1</td>\n",
       "      <td>CRISPR Guide Capture</td>\n",
       "      <td>TTCCAGCATAGCTCTTAAAC(BC)</td>\n",
       "      <td>R2</td>\n",
       "      <td>TACGCGACGACGTATCAGGT</td>\n",
       "      <td>Non-Targeting</td>\n",
       "      <td>Non-Targeting</td>\n",
       "    </tr>\n",
       "    <tr>\n",
       "      <th>NTC.2</th>\n",
       "      <td>NTC.2</td>\n",
       "      <td>CRISPR Guide Capture</td>\n",
       "      <td>TTCCAGCATAGCTCTTAAAC(BC)</td>\n",
       "      <td>R2</td>\n",
       "      <td>CGCGCGTAATCGGTCGTTTC</td>\n",
       "      <td>Non-Targeting</td>\n",
       "      <td>Non-Targeting</td>\n",
       "    </tr>\n",
       "    <tr>\n",
       "      <th>NCC.1</th>\n",
       "      <td>NCC.1</td>\n",
       "      <td>CRISPR Guide Capture</td>\n",
       "      <td>TTCCAGCATAGCTCTTAAAC(BC)</td>\n",
       "      <td>R2</td>\n",
       "      <td>ATGTATCGCGAGTACATACT</td>\n",
       "      <td>Non-Targeting</td>\n",
       "      <td>Non-Targeting</td>\n",
       "    </tr>\n",
       "    <tr>\n",
       "      <th>NCC.2</th>\n",
       "      <td>NCC.2</td>\n",
       "      <td>CRISPR Guide Capture</td>\n",
       "      <td>TTCCAGCATAGCTCTTAAAC(BC)</td>\n",
       "      <td>R2</td>\n",
       "      <td>TATAGGTTATGACGCGCTGC</td>\n",
       "      <td>Non-Targeting</td>\n",
       "      <td>Non-Targeting</td>\n",
       "    </tr>\n",
       "    <tr>\n",
       "      <th>Ifngr1.1</th>\n",
       "      <td>Ifngr1.1</td>\n",
       "      <td>CRISPR Guide Capture</td>\n",
       "      <td>TTCCAGCATAGCTCTTAAAC(BC)</td>\n",
       "      <td>R2</td>\n",
       "      <td>TCGGGTAATCTCTCCGAGCC</td>\n",
       "      <td>ENSMUSG00000020009</td>\n",
       "      <td>Ifngr1</td>\n",
       "    </tr>\n",
       "    <tr>\n",
       "      <th>Ifngr1.2</th>\n",
       "      <td>Ifngr1.2</td>\n",
       "      <td>CRISPR Guide Capture</td>\n",
       "      <td>TTCCAGCATAGCTCTTAAAC(BC)</td>\n",
       "      <td>R2</td>\n",
       "      <td>TATGTTTCGTATGTAGGATC</td>\n",
       "      <td>ENSMUSG00000020009</td>\n",
       "      <td>Ifngr1</td>\n",
       "    </tr>\n",
       "    <tr>\n",
       "      <th>Ifngr1.3</th>\n",
       "      <td>Ifngr1.3</td>\n",
       "      <td>CRISPR Guide Capture</td>\n",
       "      <td>TTCCAGCATAGCTCTTAAAC(BC)</td>\n",
       "      <td>R2</td>\n",
       "      <td>GGTATTTGCGTATTGGTATA</td>\n",
       "      <td>ENSMUSG00000020009</td>\n",
       "      <td>Ifngr1</td>\n",
       "    </tr>\n",
       "    <tr>\n",
       "      <th>Ifngr1.4</th>\n",
       "      <td>Ifngr1.4</td>\n",
       "      <td>CRISPR Guide Capture</td>\n",
       "      <td>TTCCAGCATAGCTCTTAAAC(BC)</td>\n",
       "      <td>R2</td>\n",
       "      <td>GATATTGTATTTCAGTAGAC</td>\n",
       "      <td>ENSMUSG00000020009</td>\n",
       "      <td>Ifngr1</td>\n",
       "    </tr>\n",
       "    <tr>\n",
       "      <th>Tgfbr2.1</th>\n",
       "      <td>Tgfbr2.1</td>\n",
       "      <td>CRISPR Guide Capture</td>\n",
       "      <td>TTCCAGCATAGCTCTTAAAC(BC)</td>\n",
       "      <td>R2</td>\n",
       "      <td>GGGGCATCGCTCATCTCCAC</td>\n",
       "      <td>ENSMUSG00000032440</td>\n",
       "      <td>Tgfbr2</td>\n",
       "    </tr>\n",
       "    <tr>\n",
       "      <th>Tgfbr2.2</th>\n",
       "      <td>Tgfbr2.2</td>\n",
       "      <td>CRISPR Guide Capture</td>\n",
       "      <td>TTCCAGCATAGCTCTTAAAC(BC)</td>\n",
       "      <td>R2</td>\n",
       "      <td>ATCGAGCTGGACACGCTGGT</td>\n",
       "      <td>ENSMUSG00000032440</td>\n",
       "      <td>Tgfbr2</td>\n",
       "    </tr>\n",
       "    <tr>\n",
       "      <th>Tgfbr2.3</th>\n",
       "      <td>Tgfbr2.3</td>\n",
       "      <td>CRISPR Guide Capture</td>\n",
       "      <td>TTCCAGCATAGCTCTTAAAC(BC)</td>\n",
       "      <td>R2</td>\n",
       "      <td>CCATTGTCGCTGGCCATGAC</td>\n",
       "      <td>ENSMUSG00000032440</td>\n",
       "      <td>Tgfbr2</td>\n",
       "    </tr>\n",
       "    <tr>\n",
       "      <th>Tgfbr2.4</th>\n",
       "      <td>Tgfbr2.4</td>\n",
       "      <td>CRISPR Guide Capture</td>\n",
       "      <td>TTCCAGCATAGCTCTTAAAC(BC)</td>\n",
       "      <td>R2</td>\n",
       "      <td>GAGTGAAGCCGTGGTAGGTG</td>\n",
       "      <td>ENSMUSG00000032440</td>\n",
       "      <td>Tgfbr2</td>\n",
       "    </tr>\n",
       "  </tbody>\n",
       "</table>\n",
       "</div>"
      ],
      "text/plain": [
       "          gene_ids         feature_types                   pattern read  \\\n",
       "NTC.1        NTC.1  CRISPR Guide Capture  TTCCAGCATAGCTCTTAAAC(BC)   R2   \n",
       "NTC.2        NTC.2  CRISPR Guide Capture  TTCCAGCATAGCTCTTAAAC(BC)   R2   \n",
       "NCC.1        NCC.1  CRISPR Guide Capture  TTCCAGCATAGCTCTTAAAC(BC)   R2   \n",
       "NCC.2        NCC.2  CRISPR Guide Capture  TTCCAGCATAGCTCTTAAAC(BC)   R2   \n",
       "Ifngr1.1  Ifngr1.1  CRISPR Guide Capture  TTCCAGCATAGCTCTTAAAC(BC)   R2   \n",
       "Ifngr1.2  Ifngr1.2  CRISPR Guide Capture  TTCCAGCATAGCTCTTAAAC(BC)   R2   \n",
       "Ifngr1.3  Ifngr1.3  CRISPR Guide Capture  TTCCAGCATAGCTCTTAAAC(BC)   R2   \n",
       "Ifngr1.4  Ifngr1.4  CRISPR Guide Capture  TTCCAGCATAGCTCTTAAAC(BC)   R2   \n",
       "Tgfbr2.1  Tgfbr2.1  CRISPR Guide Capture  TTCCAGCATAGCTCTTAAAC(BC)   R2   \n",
       "Tgfbr2.2  Tgfbr2.2  CRISPR Guide Capture  TTCCAGCATAGCTCTTAAAC(BC)   R2   \n",
       "Tgfbr2.3  Tgfbr2.3  CRISPR Guide Capture  TTCCAGCATAGCTCTTAAAC(BC)   R2   \n",
       "Tgfbr2.4  Tgfbr2.4  CRISPR Guide Capture  TTCCAGCATAGCTCTTAAAC(BC)   R2   \n",
       "\n",
       "                      sequence      target_gene_id target_gene_name  \n",
       "NTC.1     TACGCGACGACGTATCAGGT       Non-Targeting    Non-Targeting  \n",
       "NTC.2     CGCGCGTAATCGGTCGTTTC       Non-Targeting    Non-Targeting  \n",
       "NCC.1     ATGTATCGCGAGTACATACT       Non-Targeting    Non-Targeting  \n",
       "NCC.2     TATAGGTTATGACGCGCTGC       Non-Targeting    Non-Targeting  \n",
       "Ifngr1.1  TCGGGTAATCTCTCCGAGCC  ENSMUSG00000020009           Ifngr1  \n",
       "Ifngr1.2  TATGTTTCGTATGTAGGATC  ENSMUSG00000020009           Ifngr1  \n",
       "Ifngr1.3  GGTATTTGCGTATTGGTATA  ENSMUSG00000020009           Ifngr1  \n",
       "Ifngr1.4  GATATTGTATTTCAGTAGAC  ENSMUSG00000020009           Ifngr1  \n",
       "Tgfbr2.1  GGGGCATCGCTCATCTCCAC  ENSMUSG00000032440           Tgfbr2  \n",
       "Tgfbr2.2  ATCGAGCTGGACACGCTGGT  ENSMUSG00000032440           Tgfbr2  \n",
       "Tgfbr2.3  CCATTGTCGCTGGCCATGAC  ENSMUSG00000032440           Tgfbr2  \n",
       "Tgfbr2.4  GAGTGAAGCCGTGGTAGGTG  ENSMUSG00000032440           Tgfbr2  "
      ]
     },
     "execution_count": 8,
     "metadata": {},
     "output_type": "execute_result"
    }
   ],
   "source": [
    "mdata[\"guide\"].var"
   ]
  }
 ],
 "metadata": {
  "kernelspec": {
   "display_name": "Python 3 (ipykernel)",
   "language": "python",
   "name": "python3"
  },
  "language_info": {
   "codemirror_mode": {
    "name": "ipython",
    "version": 3
   },
   "file_extension": ".py",
   "mimetype": "text/x-python",
   "name": "python",
   "nbconvert_exporter": "python",
   "pygments_lexer": "ipython3",
   "version": "3.11.9"
  }
 },
 "nbformat": 4,
 "nbformat_minor": 5
}
