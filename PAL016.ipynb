{
 "cells": [
  {
   "cell_type": "code",
   "execution_count": 20,
   "id": "5e434086-14fd-48cd-abab-299ab03c112a",
   "metadata": {
    "execution": {
     "iopub.execute_input": "2024-11-06T23:00:48.572619Z",
     "iopub.status.busy": "2024-11-06T23:00:48.572300Z",
     "iopub.status.idle": "2024-11-06T23:00:48.586169Z",
     "shell.execute_reply": "2024-11-06T23:00:48.585725Z",
     "shell.execute_reply.started": "2024-11-06T23:00:48.572600Z"
    }
   },
   "outputs": [
    {
     "ename": "ModuleNotFoundError",
     "evalue": "No module named 'plot'",
     "output_type": "error",
     "traceback": [
      "\u001b[0;31m---------------------------------------------------------------------------\u001b[0m",
      "\u001b[0;31mModuleNotFoundError\u001b[0m                       Traceback (most recent call last)",
      "Cell \u001b[0;32mIn[20], line 3\u001b[0m\n\u001b[1;32m      1\u001b[0m \u001b[38;5;28;01mimport\u001b[39;00m \u001b[38;5;21;01mscanpy\u001b[39;00m \u001b[38;5;28;01mas\u001b[39;00m \u001b[38;5;21;01msc\u001b[39;00m\n\u001b[1;32m      2\u001b[0m \u001b[38;5;28;01mimport\u001b[39;00m \u001b[38;5;21;01mpandas\u001b[39;00m \u001b[38;5;28;01mas\u001b[39;00m \u001b[38;5;21;01mpd\u001b[39;00m\n\u001b[0;32m----> 3\u001b[0m \u001b[38;5;28;01mimport\u001b[39;00m \u001b[38;5;21;01mplot\u001b[39;00m\n",
      "\u001b[0;31mModuleNotFoundError\u001b[0m: No module named 'plot'"
     ]
    }
   ],
   "source": [
    "import scanpy as sc\n",
    "import pandas as pd\n",
    "import plot"
   ]
  },
  {
   "cell_type": "code",
   "execution_count": 4,
   "id": "bfd34638-e16d-43da-8bac-f582e35d5d94",
   "metadata": {
    "execution": {
     "iopub.execute_input": "2024-11-06T22:56:12.863051Z",
     "iopub.status.busy": "2024-11-06T22:56:12.862259Z",
     "iopub.status.idle": "2024-11-06T22:56:22.938189Z",
     "shell.execute_reply": "2024-11-06T22:56:22.932364Z",
     "shell.execute_reply.started": "2024-11-06T22:56:12.863031Z"
    }
   },
   "outputs": [
    {
     "data": {
      "text/plain": [
       "AnnData object with n_obs × n_vars = 14221 × 32185\n",
       "    obs: 'Classification', 'mixscape_class', 'perturbation', 'phase'\n",
       "    var: 'gene_ids', 'genome', 'mt', 'rb', 'intercept', 'perturbation_Tgfbr2 KO_vs_NT', 'perturbation_Ifngr1 KO_vs_NT', 'highly_variable'\n",
       "    uns: 'hvg', 'log1p', 'mixscape', 'neighbors', 'pca', 'perturbation_colors', 'phase_colors', 'umap'\n",
       "    obsm: 'X_pca', 'X_umap'\n",
       "    varm: 'PCs'\n",
       "    layers: 'X_pert', 'counts'\n",
       "    obsp: 'connectivities', 'distances'"
      ]
     },
     "execution_count": 4,
     "metadata": {},
     "output_type": "execute_result"
    }
   ],
   "source": [
    "rna = sc.read_h5ad(\"/lustre/fs4/cao_lab/scratch/plaffont/personal_datasets/CTR02/PAL009.h5ad\")\n",
    "rna"
   ]
  },
  {
   "cell_type": "code",
   "execution_count": 24,
   "id": "5d5a139b-f9b4-414d-8345-99e794d0d589",
   "metadata": {
    "execution": {
     "iopub.execute_input": "2024-11-06T23:01:43.078477Z",
     "iopub.status.busy": "2024-11-06T23:01:43.078186Z",
     "iopub.status.idle": "2024-11-06T23:01:43.093265Z",
     "shell.execute_reply": "2024-11-06T23:01:43.092934Z",
     "shell.execute_reply.started": "2024-11-06T23:01:43.078462Z"
    }
   },
   "outputs": [],
   "source": [
    "de_genes = pd.read_csv(\"/lustre/fs4/home/plaffont/notebooks_rudenksy/CTR02_CTR03_PL/readouts/psuedobulk_DE.csv\", index_col=0)"
   ]
  },
  {
   "cell_type": "code",
   "execution_count": 31,
   "id": "de203064-17ff-4e96-870b-ecddf8439c85",
   "metadata": {
    "execution": {
     "iopub.execute_input": "2024-11-06T23:03:54.212160Z",
     "iopub.status.busy": "2024-11-06T23:03:54.211663Z",
     "iopub.status.idle": "2024-11-06T23:03:54.219396Z",
     "shell.execute_reply": "2024-11-06T23:03:54.219065Z",
     "shell.execute_reply.started": "2024-11-06T23:03:54.212144Z"
    }
   },
   "outputs": [],
   "source": [
    "iko_bottom_25 = (\n",
    "    de_genes\n",
    "    .iloc[:, 2]\n",
    "    .sort_values()\n",
    "    .head(25)\n",
    ")\n",
    "\n",
    "iko_top_25 = (\n",
    "    de_genes\n",
    "    .iloc[:, 2]\n",
    "    .sort_values(ascending = False)\n",
    "    .head(25)\n",
    ")"
   ]
  },
  {
   "cell_type": "code",
   "execution_count": 32,
   "id": "48a9b2f8-4b05-41c2-8b81-95fa04c1c0dd",
   "metadata": {
    "execution": {
     "iopub.execute_input": "2024-11-06T23:04:01.973392Z",
     "iopub.status.busy": "2024-11-06T23:04:01.972968Z",
     "iopub.status.idle": "2024-11-06T23:04:01.976923Z",
     "shell.execute_reply": "2024-11-06T23:04:01.976596Z",
     "shell.execute_reply.started": "2024-11-06T23:04:01.973377Z"
    }
   },
   "outputs": [
    {
     "data": {
      "text/plain": [
       "Gnai1            3.266792\n",
       "1700003C15Rik    3.075039\n",
       "Gm14019          3.045463\n",
       "A530076I17Rik    2.918912\n",
       "1700015F17Rik    2.878253\n",
       "Gm47884          2.838137\n",
       "Sdk2             2.817178\n",
       "Trav18           2.758089\n",
       "Lratd1           2.678184\n",
       "Trav23           2.673854\n",
       "Gm45889          2.594432\n",
       "Ighv14-2         2.551839\n",
       "A830036E02Rik    2.541843\n",
       "Gm12602          2.541842\n",
       "Igkv16-104       2.540076\n",
       "9830004L10Rik    2.489381\n",
       "Kel              2.489143\n",
       "Hapln1           2.457427\n",
       "Cyp4a32          2.429684\n",
       "Echdc3           2.417471\n",
       "Gm12962          2.415615\n",
       "Gm40264          2.415615\n",
       "Slc5a5           2.409509\n",
       "Gm38825          2.377668\n",
       "Fndc4            2.356385\n",
       "Name: perturbation_Ifngr1 KO_vs_NT, dtype: float64"
      ]
     },
     "execution_count": 32,
     "metadata": {},
     "output_type": "execute_result"
    }
   ],
   "source": [
    "iko_top_25"
   ]
  }
 ],
 "metadata": {
  "kernelspec": {
   "display_name": "Python 3 (ipykernel)",
   "language": "python",
   "name": "python3"
  },
  "language_info": {
   "codemirror_mode": {
    "name": "ipython",
    "version": 3
   },
   "file_extension": ".py",
   "mimetype": "text/x-python",
   "name": "python",
   "nbconvert_exporter": "python",
   "pygments_lexer": "ipython3",
   "version": "3.11.10"
  }
 },
 "nbformat": 4,
 "nbformat_minor": 5
}
